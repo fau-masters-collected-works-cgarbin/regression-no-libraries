{
 "cells": [
  {
   "cell_type": "markdown",
   "id": "d20c791c-4ee2-411e-9396-5b9d998db793",
   "metadata": {},
   "source": [
    "CAP 5625 Computational Foundations of AI\n",
    "Fall 2021 - Dr. DeGiorgio\n",
    "<br>Programming Assignement 1 - Ridge regression without libraries\n",
    "<br>Christian Garbin"
   ]
  },
  {
   "cell_type": "markdown",
   "id": "6ce1b11f-d622-4bb4-bce0-a5bb166338b5",
   "metadata": {},
   "source": [
    "Instructions to run the code are available in the README.md file."
   ]
  },
  {
   "cell_type": "markdown",
   "id": "4073608b-939f-4d11-a13b-3c06be43abb1",
   "metadata": {},
   "source": [
    "# Setting up the environment"
   ]
  },
  {
   "cell_type": "markdown",
   "id": "25fc3822-c014-42df-a448-e198c5af2b9f",
   "metadata": {},
   "source": [
    "Import the Python modules we use in the notebook and configure the Jupyter environment."
   ]
  },
  {
   "cell_type": "code",
   "execution_count": 1,
   "id": "35fac405-0d72-4a68-9313-57a448e12462",
   "metadata": {},
   "outputs": [],
   "source": [
    "import copy\n",
    "from typing import Tuple\n",
    "import numpy as np\n",
    "import pandas as pd\n",
    "import seaborn as sns\n",
    "# Seaborn uses Matplotlib behind the scenes\n",
    "%matplotlib inline"
   ]
  },
  {
   "cell_type": "markdown",
   "id": "99813544-60f4-4a67-ba08-26a57edaf269",
   "metadata": {},
   "source": [
    "Import our ridge regression module and the utilities."
   ]
  },
  {
   "cell_type": "code",
   "execution_count": 2,
   "id": "522223ab-232a-46b3-960b-30a654c95b97",
   "metadata": {},
   "outputs": [],
   "source": [
    "import utils\n",
    "import ridge"
   ]
  },
  {
   "cell_type": "markdown",
   "id": "c9df877f-ce13-4ec5-ae18-2b026f86df62",
   "metadata": {},
   "source": [
    "Run the automated tests to verify the code works as intended before we start the expriments."
   ]
  },
  {
   "cell_type": "code",
   "execution_count": 3,
   "id": "bddbe6fa-a714-4a35-a22e-23953ca40608",
   "metadata": {},
   "outputs": [
    {
     "name": "stdout",
     "output_type": "stream",
     "text": [
      "All tests passed\n"
     ]
    }
   ],
   "source": [
    "import test\n",
    "# Set to true to see each test result\n",
    "test.verbose = False\n",
    "test.test_all()\n",
    "print('All tests passed')"
   ]
  },
  {
   "cell_type": "markdown",
   "id": "8c21a10f-457a-48af-b142-f728c820bc09",
   "metadata": {},
   "source": [
    "The range of values to try for the tunig parameter (lambda)."
   ]
  },
  {
   "cell_type": "code",
   "execution_count": 10,
   "id": "90aaabf6-cb1d-4149-9b41-e0c2176a7c73",
   "metadata": {},
   "outputs": [],
   "source": [
    "LAMBDAS_TO_TEST = [0.01, 0.1, 1, 10, 100, 1_000, 10_000]\n",
    "NUM_TESTS = len(LAMBDAS_TO_TEST)"
   ]
  },
  {
   "cell_type": "markdown",
   "id": "293e5bc9-c31e-4abe-9bc9-b130e81dbd77",
   "metadata": {},
   "source": [
    "Read the dataset and prepare it by encoding categorical columns, then scaling the features (X, the input) and centering the targets (Y, the output).\n",
    "\n",
    "From this point on, we make copies of the dataset to save time (not read from the disk multiple times."
   ]
  },
  {
   "cell_type": "code",
   "execution_count": 11,
   "id": "5a4b1573-61ca-4430-96fa-182336decc70",
   "metadata": {},
   "outputs": [],
   "source": [
    "_x, _y = None, None # cache the dataset\n",
    "NUM_FEATURES = -1\n",
    "FEATURE_NAMES = []\n",
    "\n",
    "def read_dataset() -> Tuple[np.ndarray, np.ndarray]:\n",
    "    global _x, _y, NUM_FEATURES, FEATURE_NAMES\n",
    "    \n",
    "    if _x is None or _y is None:\n",
    "        _x, _y, FEATURE_NAMES = utils.read_dataset('Credit_N400_p9.csv')\n",
    "        NUM_FEATURES = _x.shape[1]\n",
    "\n",
    "        # Encode the categorical values\n",
    "        utils.encode_binary_cateogry(_x, column=6, one_value='Female')  # gender\n",
    "        utils.encode_binary_cateogry(_x, column=7, one_value='Yes')  # student\n",
    "        utils.encode_binary_cateogry(_x, column=8, one_value='Yes')  # married\n",
    "\n",
    "        utils.scale(_x)\n",
    "        utils.center(_y)\n",
    "\n",
    "    # Always return a copy to preserve the original values\n",
    "    return copy.deepcopy(_x), copy.deepcopy(_y)"
   ]
  },
  {
   "cell_type": "markdown",
   "id": "ca500878-ed53-455c-bcdc-744528d37d62",
   "metadata": {},
   "source": [
    "# Deliverable 1\n",
    "\n",
    "> Illustrate the effect of the tuning parameter on the inferred ridge regression coefficients by generating a plot (e.g., using Excel, Matlab, R, etc.) of nine lines (one for each = 9 = of the 𝑝 features), with the 𝑦 -axis as 10𝛽 𝑗 , 𝑗 1 , 2 , … , 9, and the 𝑥-axis the corresponding . log-scaled tuning parameter value log (𝜆) that generated the particular 𝛽."
   ]
  },
  {
   "cell_type": "markdown",
   "id": "cbdc9f8b-48bf-4b28-b192-ca5b8c416f22",
   "metadata": {},
   "source": [
    "Perform ridge regression with the different lambda values."
   ]
  },
  {
   "cell_type": "code",
   "execution_count": 12,
   "id": "7652aa13-1116-452c-890d-aa539f4ba4ee",
   "metadata": {},
   "outputs": [],
   "source": [
    "def experiment1(lmbda: float) -> Tuple[np.ndarray, float]:\n",
    "    x, y = read_dataset()\n",
    "\n",
    "    model = ridge.fit(x, y, lr=0.00001, lmbda=lmbda, iterations=10_000)\n",
    "    predictions = ridge.predict(x, model)\n",
    "    mse = utils.mse(y, predictions)\n",
    "\n",
    "    return model, mse"
   ]
  },
  {
   "cell_type": "code",
   "execution_count": 13,
   "id": "dc0e5447-d34c-4c3d-9cb9-626826951dc7",
   "metadata": {},
   "outputs": [
    {
     "name": "stdout",
     "output_type": "stream",
     "text": [
      "Lambda: 0.01 coefficients:  -274.86   329.02   286.80    19.53   -11.06    -2.88    -5.21   127.24    -4.22\n",
      "Lambda: 0.1 coefficients:  -274.53   329.88   285.61    19.59   -11.09    -2.88    -5.20   127.21    -4.22\n",
      "Lambda: 1 coefficients:  -271.33   325.61   286.68    19.59   -11.32    -2.82    -5.10   126.81    -4.28\n",
      "Lambda: 10 coefficients:  -242.11   301.07   281.71    20.22   -13.32    -2.36    -4.19   123.16    -4.72\n",
      "Lambda: 100 coefficients:   -94.64   211.37   209.55    22.36   -19.18    -0.46     0.22    97.67    -5.73\n",
      "Lambda: 1000 coefficients:    22.93    84.08    84.22    10.27    -5.69    -0.10     1.99    34.00    -1.96\n",
      "Lambda: 10000 coefficients:     7.31    14.44    14.47     1.50    -0.13    -0.11     0.36     4.57    -0.13\n"
     ]
    }
   ],
   "source": [
    "betas = []\n",
    "for i, lmbda in enumerate(LAMBDAS_TO_TEST):\n",
    "    b, _ = experiment1(lmbda)\n",
    "    coef_str = ' '.join('{:8.2f}'.format(c) for c in b.flatten())\n",
    "    print(f'Lambda: {lmbda} coefficients: {coef_str}')\n",
    "    betas.append(b)"
   ]
  },
  {
   "cell_type": "code",
   "execution_count": 14,
   "id": "ba9d71d7-97c8-4e92-8aea-1f99bf5eebff",
   "metadata": {},
   "outputs": [],
   "source": [
    "betas = np.squeeze(betas)"
   ]
  },
  {
   "cell_type": "code",
   "execution_count": 15,
   "id": "935bd2e9-7f89-47bb-b444-90088492ac41",
   "metadata": {},
   "outputs": [],
   "source": [
    "df = pd.DataFrame(betas, columns=FEATURE_NAMES, index=LAMBDAS_TO_TEST)"
   ]
  },
  {
   "cell_type": "code",
   "execution_count": 16,
   "id": "110d9ca2-f2e0-481c-93a0-1871a8d35de8",
   "metadata": {},
   "outputs": [
    {
     "data": {
      "text/html": [
       "<div>\n",
       "<style scoped>\n",
       "    .dataframe tbody tr th:only-of-type {\n",
       "        vertical-align: middle;\n",
       "    }\n",
       "\n",
       "    .dataframe tbody tr th {\n",
       "        vertical-align: top;\n",
       "    }\n",
       "\n",
       "    .dataframe thead th {\n",
       "        text-align: right;\n",
       "    }\n",
       "</style>\n",
       "<table border=\"1\" class=\"dataframe\">\n",
       "  <thead>\n",
       "    <tr style=\"text-align: right;\">\n",
       "      <th></th>\n",
       "      <th>Income</th>\n",
       "      <th>Limit</th>\n",
       "      <th>Rating</th>\n",
       "      <th>Cards</th>\n",
       "      <th>Age</th>\n",
       "      <th>Education</th>\n",
       "      <th>Gender</th>\n",
       "      <th>Student</th>\n",
       "      <th>Married</th>\n",
       "    </tr>\n",
       "  </thead>\n",
       "  <tbody>\n",
       "    <tr>\n",
       "      <th>0.01</th>\n",
       "      <td>-274.858216</td>\n",
       "      <td>329.019731</td>\n",
       "      <td>286.802661</td>\n",
       "      <td>19.528873</td>\n",
       "      <td>-11.064833</td>\n",
       "      <td>-2.875177</td>\n",
       "      <td>-5.207965</td>\n",
       "      <td>127.238549</td>\n",
       "      <td>-4.218608</td>\n",
       "    </tr>\n",
       "    <tr>\n",
       "      <th>0.10</th>\n",
       "      <td>-274.53204</td>\n",
       "      <td>329.88115</td>\n",
       "      <td>285.613361</td>\n",
       "      <td>19.585579</td>\n",
       "      <td>-11.086961</td>\n",
       "      <td>-2.875906</td>\n",
       "      <td>-5.19774</td>\n",
       "      <td>127.206854</td>\n",
       "      <td>-4.215969</td>\n",
       "    </tr>\n",
       "    <tr>\n",
       "      <th>1.00</th>\n",
       "      <td>-271.330484</td>\n",
       "      <td>325.607108</td>\n",
       "      <td>286.68379</td>\n",
       "      <td>19.592748</td>\n",
       "      <td>-11.31914</td>\n",
       "      <td>-2.81647</td>\n",
       "      <td>-5.097489</td>\n",
       "      <td>126.814157</td>\n",
       "      <td>-4.277692</td>\n",
       "    </tr>\n",
       "    <tr>\n",
       "      <th>10.00</th>\n",
       "      <td>-242.111001</td>\n",
       "      <td>301.070162</td>\n",
       "      <td>281.709703</td>\n",
       "      <td>20.223759</td>\n",
       "      <td>-13.322593</td>\n",
       "      <td>-2.35508</td>\n",
       "      <td>-4.185863</td>\n",
       "      <td>123.16118</td>\n",
       "      <td>-4.719228</td>\n",
       "    </tr>\n",
       "    <tr>\n",
       "      <th>100.00</th>\n",
       "      <td>-94.639427</td>\n",
       "      <td>211.365448</td>\n",
       "      <td>209.546148</td>\n",
       "      <td>22.364962</td>\n",
       "      <td>-19.175688</td>\n",
       "      <td>-0.461881</td>\n",
       "      <td>0.219414</td>\n",
       "      <td>97.667029</td>\n",
       "      <td>-5.732029</td>\n",
       "    </tr>\n",
       "    <tr>\n",
       "      <th>1000.00</th>\n",
       "      <td>22.933101</td>\n",
       "      <td>84.077705</td>\n",
       "      <td>84.217036</td>\n",
       "      <td>10.26565</td>\n",
       "      <td>-5.693172</td>\n",
       "      <td>-0.099719</td>\n",
       "      <td>1.9933</td>\n",
       "      <td>34.002375</td>\n",
       "      <td>-1.959075</td>\n",
       "    </tr>\n",
       "    <tr>\n",
       "      <th>10000.00</th>\n",
       "      <td>7.306755</td>\n",
       "      <td>14.441697</td>\n",
       "      <td>14.474018</td>\n",
       "      <td>1.50157</td>\n",
       "      <td>-0.127983</td>\n",
       "      <td>-0.114126</td>\n",
       "      <td>0.363792</td>\n",
       "      <td>4.573953</td>\n",
       "      <td>-0.134201</td>\n",
       "    </tr>\n",
       "  </tbody>\n",
       "</table>\n",
       "</div>"
      ],
      "text/plain": [
       "              Income       Limit      Rating      Cards        Age Education  \\\n",
       "0.01     -274.858216  329.019731  286.802661  19.528873 -11.064833 -2.875177   \n",
       "0.10      -274.53204   329.88115  285.613361  19.585579 -11.086961 -2.875906   \n",
       "1.00     -271.330484  325.607108   286.68379  19.592748  -11.31914  -2.81647   \n",
       "10.00    -242.111001  301.070162  281.709703  20.223759 -13.322593  -2.35508   \n",
       "100.00    -94.639427  211.365448  209.546148  22.364962 -19.175688 -0.461881   \n",
       "1000.00    22.933101   84.077705   84.217036   10.26565  -5.693172 -0.099719   \n",
       "10000.00    7.306755   14.441697   14.474018    1.50157  -0.127983 -0.114126   \n",
       "\n",
       "            Gender     Student   Married  \n",
       "0.01     -5.207965  127.238549 -4.218608  \n",
       "0.10      -5.19774  127.206854 -4.215969  \n",
       "1.00     -5.097489  126.814157 -4.277692  \n",
       "10.00    -4.185863   123.16118 -4.719228  \n",
       "100.00    0.219414   97.667029 -5.732029  \n",
       "1000.00     1.9933   34.002375 -1.959075  \n",
       "10000.00  0.363792    4.573953 -0.134201  "
      ]
     },
     "execution_count": 16,
     "metadata": {},
     "output_type": "execute_result"
    }
   ],
   "source": [
    "df"
   ]
  },
  {
   "cell_type": "code",
   "execution_count": 17,
   "id": "83301905-88f2-40cf-8868-6f3005f62009",
   "metadata": {},
   "outputs": [
    {
     "data": {
      "text/html": [
       "<div>\n",
       "<style scoped>\n",
       "    .dataframe tbody tr th:only-of-type {\n",
       "        vertical-align: middle;\n",
       "    }\n",
       "\n",
       "    .dataframe tbody tr th {\n",
       "        vertical-align: top;\n",
       "    }\n",
       "\n",
       "    .dataframe thead th {\n",
       "        text-align: right;\n",
       "    }\n",
       "</style>\n",
       "<table border=\"1\" class=\"dataframe\">\n",
       "  <thead>\n",
       "    <tr style=\"text-align: right;\">\n",
       "      <th></th>\n",
       "      <th>Lambda</th>\n",
       "      <th>Feature</th>\n",
       "      <th>Coefficient</th>\n",
       "    </tr>\n",
       "  </thead>\n",
       "  <tbody>\n",
       "    <tr>\n",
       "      <th>0</th>\n",
       "      <td>0.01</td>\n",
       "      <td>Income</td>\n",
       "      <td>-274.858216</td>\n",
       "    </tr>\n",
       "    <tr>\n",
       "      <th>1</th>\n",
       "      <td>0.01</td>\n",
       "      <td>Limit</td>\n",
       "      <td>329.019731</td>\n",
       "    </tr>\n",
       "    <tr>\n",
       "      <th>2</th>\n",
       "      <td>0.01</td>\n",
       "      <td>Rating</td>\n",
       "      <td>286.802661</td>\n",
       "    </tr>\n",
       "    <tr>\n",
       "      <th>3</th>\n",
       "      <td>0.01</td>\n",
       "      <td>Cards</td>\n",
       "      <td>19.528873</td>\n",
       "    </tr>\n",
       "    <tr>\n",
       "      <th>4</th>\n",
       "      <td>0.01</td>\n",
       "      <td>Age</td>\n",
       "      <td>-11.064833</td>\n",
       "    </tr>\n",
       "    <tr>\n",
       "      <th>...</th>\n",
       "      <td>...</td>\n",
       "      <td>...</td>\n",
       "      <td>...</td>\n",
       "    </tr>\n",
       "    <tr>\n",
       "      <th>58</th>\n",
       "      <td>10000.00</td>\n",
       "      <td>Age</td>\n",
       "      <td>-0.127983</td>\n",
       "    </tr>\n",
       "    <tr>\n",
       "      <th>59</th>\n",
       "      <td>10000.00</td>\n",
       "      <td>Education</td>\n",
       "      <td>-0.114126</td>\n",
       "    </tr>\n",
       "    <tr>\n",
       "      <th>60</th>\n",
       "      <td>10000.00</td>\n",
       "      <td>Gender</td>\n",
       "      <td>0.363792</td>\n",
       "    </tr>\n",
       "    <tr>\n",
       "      <th>61</th>\n",
       "      <td>10000.00</td>\n",
       "      <td>Student</td>\n",
       "      <td>4.573953</td>\n",
       "    </tr>\n",
       "    <tr>\n",
       "      <th>62</th>\n",
       "      <td>10000.00</td>\n",
       "      <td>Married</td>\n",
       "      <td>-0.134201</td>\n",
       "    </tr>\n",
       "  </tbody>\n",
       "</table>\n",
       "<p>63 rows × 3 columns</p>\n",
       "</div>"
      ],
      "text/plain": [
       "      Lambda    Feature Coefficient\n",
       "0       0.01     Income -274.858216\n",
       "1       0.01      Limit  329.019731\n",
       "2       0.01     Rating  286.802661\n",
       "3       0.01      Cards   19.528873\n",
       "4       0.01        Age  -11.064833\n",
       "..       ...        ...         ...\n",
       "58  10000.00        Age   -0.127983\n",
       "59  10000.00  Education   -0.114126\n",
       "60  10000.00     Gender    0.363792\n",
       "61  10000.00    Student    4.573953\n",
       "62  10000.00    Married   -0.134201\n",
       "\n",
       "[63 rows x 3 columns]"
      ]
     },
     "execution_count": 17,
     "metadata": {},
     "output_type": "execute_result"
    }
   ],
   "source": [
    "df2 = df.stack().reset_index()\n",
    "df2.columns = ['Lambda', 'Feature', 'Coefficient']\n",
    "df2"
   ]
  },
  {
   "cell_type": "code",
   "execution_count": 18,
   "id": "8431c294-130d-45fd-9c9e-92394731a271",
   "metadata": {},
   "outputs": [
    {
     "data": {
      "image/png": "[encoded data removed]",
      "text/plain": [
       "<Figure size 432x288 with 1 Axes>"
      ]
     },
     "metadata": {
      "needs_background": "light"
     },
     "output_type": "display_data"
    }
   ],
   "source": [
    "g = sns.lineplot(y='Coefficient', x='Lambda', hue='Feature', data=df2)\n",
    "g.set_xscale('log')"
   ]
  },
  {
   "cell_type": "code",
   "execution_count": null,
   "id": "2eb75057-a704-4eab-9a94-b9d8c3e4d80c",
   "metadata": {},
   "outputs": [],
   "source": []
  }
 ],
 "metadata": {
  "kernelspec": {
   "display_name": "env",
   "language": "python",
   "name": "env"
  },
  "language_info": {
   "codemirror_mode": {
    "name": "ipython",
    "version": 3
   },
   "file_extension": ".py",
   "mimetype": "text/x-python",
   "name": "python",
   "nbconvert_exporter": "python",
   "pygments_lexer": "ipython3",
   "version": "3.9.7"
  }
 },
 "nbformat": 4,
 "nbformat_minor": 5
}
